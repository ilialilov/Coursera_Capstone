{
 "cells": [
  {
   "cell_type": "markdown",
   "metadata": {},
   "source": [
    "# Introduction"
   ]
  },
  {
   "cell_type": "markdown",
   "metadata": {},
   "source": [
    "Dublin is the heart of Ireland. Latest census data show that over **25%** of the population of Ireland lives in Dublin. This level of centralization is not without a cost however. Data from The Society of Chartered Surveyors Ireland shows commercial rent prices in Dublin to be **double** the national average and in the current economic climate this can be a big issue for many business owners\n",
    "\n",
    "In this project we will examine a fictional business case of a struggling Italian restaurant owner looking to relocate his business from Dublin to another city or town in Ireland.  "
   ]
  },
  {
   "cell_type": "markdown",
   "metadata": {},
   "source": [
    "# Data"
   ]
  },
  {
   "cell_type": "markdown",
   "metadata": {},
   "source": [
    "For our analysis we will leverage the following data:\n",
    "\n",
    "- Names and location of towns and cities from [latlong.net](https://www.latlong.net/)\n",
    "- Population data from [Wikipedia.org](https://www.wikipedia.org/)\n",
    "- Restaurants location and types from [Foursquare.com](https://www.Foursquare.com)"
   ]
  },
  {
   "cell_type": "code",
   "execution_count": null,
   "metadata": {},
   "outputs": [],
   "source": []
  }
 ],
 "metadata": {
  "kernelspec": {
   "display_name": "Python",
   "language": "python",
   "name": "conda-env-python-py"
  },
  "language_info": {
   "codemirror_mode": {
    "name": "ipython",
    "version": 3
   },
   "file_extension": ".py",
   "mimetype": "text/x-python",
   "name": "python",
   "nbconvert_exporter": "python",
   "pygments_lexer": "ipython3",
   "version": "3.6.10"
  }
 },
 "nbformat": 4,
 "nbformat_minor": 4
}
